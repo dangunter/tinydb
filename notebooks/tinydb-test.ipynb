{
 "cells": [
  {
   "cell_type": "code",
   "execution_count": 11,
   "metadata": {
    "collapsed": true
   },
   "outputs": [],
   "source": [
    "from tinydb import  TinyDB, Query\n",
    "from datetime import datetime\n",
    "from time import sleep\n",
    "import os"
   ]
  },
  {
   "cell_type": "code",
   "execution_count": 28,
   "metadata": {
    "collapsed": false
   },
   "outputs": [
    {
     "name": "stdout",
     "output_type": "stream",
     "text": [
      "0: Time to insert 100 documents = 0.185659 seconds   1.9 ms/document\n",
      "1: Time to insert 100 documents = 0.548779 seconds   5.5 ms/document\n",
      "2: Time to insert 100 documents = 0.960697 seconds   9.6 ms/document\n",
      "3: Time to insert 100 documents = 1.36015 seconds   13.6 ms/document\n",
      "4: Time to insert 100 documents = 1.794598 seconds   17.9 ms/document\n",
      "5: Time to insert 100 documents = 2.150069 seconds   21.5 ms/document\n",
      "6: Time to insert 100 documents = 2.605438 seconds   26.1 ms/document\n",
      "7: Time to insert 100 documents = 2.913423 seconds   29.1 ms/document\n",
      "8: Time to insert 100 documents = 3.353771 seconds   33.5 ms/document\n",
      "9: Time to insert 100 documents = 3.720717 seconds   37.2 ms/document\n",
      "10: Time to insert 100 documents = 4.139752 seconds   41.4 ms/document\n",
      "11: Time to insert 100 documents = 4.566778 seconds   45.7 ms/document\n",
      "12: Time to insert 100 documents = 4.855163 seconds   48.6 ms/document\n",
      "13: Time to insert 100 documents = 5.467715 seconds   54.7 ms/document\n",
      "14: Time to insert 100 documents = 5.725522 seconds   57.3 ms/document\n",
      "15: Time to insert 100 documents = 6.121185 seconds   61.2 ms/document\n",
      "16: Time to insert 100 documents = 6.698591 seconds   67.0 ms/document\n",
      "17: Time to insert 100 documents = 7.080753 seconds   70.8 ms/document\n",
      "18: Time to insert 100 documents = 7.320582 seconds   73.2 ms/document\n",
      "19: Time to insert 100 documents = 7.819785 seconds   78.2 ms/document\n",
      "Average time to insert 100 documents = 39.7 ms/document\n"
     ]
    }
   ],
   "source": [
    "# simple performance test\n",
    "database = 'example-db.json'\n",
    "db = TinyDB(database)\n",
    "db.purge()\n",
    "ttot = 0\n",
    "iterations = 20\n",
    "for test_iter in range(iterations):\n",
    "    n = 100\n",
    "    t0 = datetime.now()\n",
    "    for i in xrange(n):\n",
    "        doc = { 'name': 'my flowsheet',\n",
    "              'notebook': '/path/to/notebook-{i}.ipynb'.format(i=i),\n",
    "              'models': [\n",
    "                {'git_repo':  'https://github.com/dangunter/models.git',\n",
    "                'git_file': 'idaes_models/unit/solvent/mea_{m}/{m}.py'.format(m=m),\n",
    "                'module': 'idaes_models.unit.solvent.mea_{m}.{m}'.format(m=m),\n",
    "                'class': m.capitalize()} for m in ['absorber', 'adsorber', 'foo', 'bar']\n",
    "            ], \n",
    "              'properties': {'foo': 'x'* 100, 'bar': 'y' * 200, 'num': i, 'iter': test_iter}}\n",
    "        db.insert(doc)\n",
    "    t1 = datetime.now()\n",
    "    sec = (t1 - t0).total_seconds()\n",
    "    print('{iter}: Time to insert {n} documents = {t} seconds   {ms:.1f} ms/document'\n",
    "          .format(iter=test_iter, n=n, t=sec, ms=1000.*sec/n))\n",
    "    ttot += sec\n",
    "print('Average time to insert {n} documents = {ms:.1f} ms/document'\n",
    "      .format(n=n, ms=1000.*ttot/(n * iterations)))"
   ]
  },
  {
   "cell_type": "code",
   "execution_count": 29,
   "metadata": {
    "collapsed": false
   },
   "outputs": [],
   "source": [
    "q = Query()"
   ]
  },
  {
   "cell_type": "code",
   "execution_count": 34,
   "metadata": {
    "collapsed": false
   },
   "outputs": [
    {
     "name": "stdout",
     "output_type": "stream",
     "text": [
      "[{u'models': [{u'git_file': u'idaes_models/unit/solvent/mea_absorber/absorber.py', u'class': u'Absorber', u'module': u'idaes_models.unit.solvent.mea_absorber.absorber', u'git_repo': u'https://github.com/dangunter/models.git'}, {u'git_file': u'idaes_models/unit/solvent/mea_adsorber/adsorber.py', u'class': u'Adsorber', u'module': u'idaes_models.unit.solvent.mea_adsorber.adsorber', u'git_repo': u'https://github.com/dangunter/models.git'}, {u'git_file': u'idaes_models/unit/solvent/mea_foo/foo.py', u'class': u'Foo', u'module': u'idaes_models.unit.solvent.mea_foo.foo', u'git_repo': u'https://github.com/dangunter/models.git'}, {u'git_file': u'idaes_models/unit/solvent/mea_bar/bar.py', u'class': u'Bar', u'module': u'idaes_models.unit.solvent.mea_bar.bar', u'git_repo': u'https://github.com/dangunter/models.git'}], u'notebook': u'/path/to/notebook-50.ipynb', u'name': u'my flowsheet', u'properties': {u'num': 50, u'bar': u'yyyyyyyyyyyyyyyyyyyyyyyyyyyyyyyyyyyyyyyyyyyyyyyyyyyyyyyyyyyyyyyyyyyyyyyyyyyyyyyyyyyyyyyyyyyyyyyyyyyyyyyyyyyyyyyyyyyyyyyyyyyyyyyyyyyyyyyyyyyyyyyyyyyyyyyyyyyyyyyyyyyyyyyyyyyyyyyyyyyyyyyyyyyyyyyyyyyyyyyy', u'foo': u'xxxxxxxxxxxxxxxxxxxxxxxxxxxxxxxxxxxxxxxxxxxxxxxxxxxxxxxxxxxxxxxxxxxxxxxxxxxxxxxxxxxxxxxxxxxxxxxxxxxx', u'iter': 11}}, {u'models': [{u'git_file': u'idaes_models/unit/solvent/mea_absorber/absorber.py', u'class': u'Absorber', u'module': u'idaes_models.unit.solvent.mea_absorber.absorber', u'git_repo': u'https://github.com/dangunter/models.git'}, {u'git_file': u'idaes_models/unit/solvent/mea_adsorber/adsorber.py', u'class': u'Adsorber', u'module': u'idaes_models.unit.solvent.mea_adsorber.adsorber', u'git_repo': u'https://github.com/dangunter/models.git'}, {u'git_file': u'idaes_models/unit/solvent/mea_foo/foo.py', u'class': u'Foo', u'module': u'idaes_models.unit.solvent.mea_foo.foo', u'git_repo': u'https://github.com/dangunter/models.git'}, {u'git_file': u'idaes_models/unit/solvent/mea_bar/bar.py', u'class': u'Bar', u'module': u'idaes_models.unit.solvent.mea_bar.bar', u'git_repo': u'https://github.com/dangunter/models.git'}], u'notebook': u'/path/to/notebook-51.ipynb', u'name': u'my flowsheet', u'properties': {u'num': 51, u'bar': u'yyyyyyyyyyyyyyyyyyyyyyyyyyyyyyyyyyyyyyyyyyyyyyyyyyyyyyyyyyyyyyyyyyyyyyyyyyyyyyyyyyyyyyyyyyyyyyyyyyyyyyyyyyyyyyyyyyyyyyyyyyyyyyyyyyyyyyyyyyyyyyyyyyyyyyyyyyyyyyyyyyyyyyyyyyyyyyyyyyyyyyyyyyyyyyyyyyyyyyyy', u'foo': u'xxxxxxxxxxxxxxxxxxxxxxxxxxxxxxxxxxxxxxxxxxxxxxxxxxxxxxxxxxxxxxxxxxxxxxxxxxxxxxxxxxxxxxxxxxxxxxxxxxxx', u'iter': 11}}, {u'models': [{u'git_file': u'idaes_models/unit/solvent/mea_absorber/absorber.py', u'class': u'Absorber', u'module': u'idaes_models.unit.solvent.mea_absorber.absorber', u'git_repo': u'https://github.com/dangunter/models.git'}, {u'git_file': u'idaes_models/unit/solvent/mea_adsorber/adsorber.py', u'class': u'Adsorber', u'module': u'idaes_models.unit.solvent.mea_adsorber.adsorber', u'git_repo': u'https://github.com/dangunter/models.git'}, {u'git_file': u'idaes_models/unit/solvent/mea_foo/foo.py', u'class': u'Foo', u'module': u'idaes_models.unit.solvent.mea_foo.foo', u'git_repo': u'https://github.com/dangunter/models.git'}, {u'git_file': u'idaes_models/unit/solvent/mea_bar/bar.py', u'class': u'Bar', u'module': u'idaes_models.unit.solvent.mea_bar.bar', u'git_repo': u'https://github.com/dangunter/models.git'}], u'notebook': u'/path/to/notebook-52.ipynb', u'name': u'my flowsheet', u'properties': {u'num': 52, u'bar': u'yyyyyyyyyyyyyyyyyyyyyyyyyyyyyyyyyyyyyyyyyyyyyyyyyyyyyyyyyyyyyyyyyyyyyyyyyyyyyyyyyyyyyyyyyyyyyyyyyyyyyyyyyyyyyyyyyyyyyyyyyyyyyyyyyyyyyyyyyyyyyyyyyyyyyyyyyyyyyyyyyyyyyyyyyyyyyyyyyyyyyyyyyyyyyyyyyyyyyyyy', u'foo': u'xxxxxxxxxxxxxxxxxxxxxxxxxxxxxxxxxxxxxxxxxxxxxxxxxxxxxxxxxxxxxxxxxxxxxxxxxxxxxxxxxxxxxxxxxxxxxxxxxxxx', u'iter': 11}}, {u'models': [{u'git_file': u'idaes_models/unit/solvent/mea_absorber/absorber.py', u'class': u'Absorber', u'module': u'idaes_models.unit.solvent.mea_absorber.absorber', u'git_repo': u'https://github.com/dangunter/models.git'}, {u'git_file': u'idaes_models/unit/solvent/mea_adsorber/adsorber.py', u'class': u'Adsorber', u'module': u'idaes_models.unit.solvent.mea_adsorber.adsorber', u'git_repo': u'https://github.com/dangunter/models.git'}, {u'git_file': u'idaes_models/unit/solvent/mea_foo/foo.py', u'class': u'Foo', u'module': u'idaes_models.unit.solvent.mea_foo.foo', u'git_repo': u'https://github.com/dangunter/models.git'}, {u'git_file': u'idaes_models/unit/solvent/mea_bar/bar.py', u'class': u'Bar', u'module': u'idaes_models.unit.solvent.mea_bar.bar', u'git_repo': u'https://github.com/dangunter/models.git'}], u'notebook': u'/path/to/notebook-53.ipynb', u'name': u'my flowsheet', u'properties': {u'num': 53, u'bar': u'yyyyyyyyyyyyyyyyyyyyyyyyyyyyyyyyyyyyyyyyyyyyyyyyyyyyyyyyyyyyyyyyyyyyyyyyyyyyyyyyyyyyyyyyyyyyyyyyyyyyyyyyyyyyyyyyyyyyyyyyyyyyyyyyyyyyyyyyyyyyyyyyyyyyyyyyyyyyyyyyyyyyyyyyyyyyyyyyyyyyyyyyyyyyyyyyyyyyyyyy', u'foo': u'xxxxxxxxxxxxxxxxxxxxxxxxxxxxxxxxxxxxxxxxxxxxxxxxxxxxxxxxxxxxxxxxxxxxxxxxxxxxxxxxxxxxxxxxxxxxxxxxxxxx', u'iter': 11}}, {u'models': [{u'git_file': u'idaes_models/unit/solvent/mea_absorber/absorber.py', u'class': u'Absorber', u'module': u'idaes_models.unit.solvent.mea_absorber.absorber', u'git_repo': u'https://github.com/dangunter/models.git'}, {u'git_file': u'idaes_models/unit/solvent/mea_adsorber/adsorber.py', u'class': u'Adsorber', u'module': u'idaes_models.unit.solvent.mea_adsorber.adsorber', u'git_repo': u'https://github.com/dangunter/models.git'}, {u'git_file': u'idaes_models/unit/solvent/mea_foo/foo.py', u'class': u'Foo', u'module': u'idaes_models.unit.solvent.mea_foo.foo', u'git_repo': u'https://github.com/dangunter/models.git'}, {u'git_file': u'idaes_models/unit/solvent/mea_bar/bar.py', u'class': u'Bar', u'module': u'idaes_models.unit.solvent.mea_bar.bar', u'git_repo': u'https://github.com/dangunter/models.git'}], u'notebook': u'/path/to/notebook-54.ipynb', u'name': u'my flowsheet', u'properties': {u'num': 54, u'bar': u'yyyyyyyyyyyyyyyyyyyyyyyyyyyyyyyyyyyyyyyyyyyyyyyyyyyyyyyyyyyyyyyyyyyyyyyyyyyyyyyyyyyyyyyyyyyyyyyyyyyyyyyyyyyyyyyyyyyyyyyyyyyyyyyyyyyyyyyyyyyyyyyyyyyyyyyyyyyyyyyyyyyyyyyyyyyyyyyyyyyyyyyyyyyyyyyyyyyyyyyy', u'foo': u'xxxxxxxxxxxxxxxxxxxxxxxxxxxxxxxxxxxxxxxxxxxxxxxxxxxxxxxxxxxxxxxxxxxxxxxxxxxxxxxxxxxxxxxxxxxxxxxxxxxx', u'iter': 11}}]\n"
     ]
    }
   ],
   "source": [
    "results = db.search((q.properties.iter > 10) & (q.properties.num >= 50))\n",
    "print(results[:5])"
   ]
  },
  {
   "cell_type": "code",
   "execution_count": null,
   "metadata": {
    "collapsed": true
   },
   "outputs": [],
   "source": []
  }
 ],
 "metadata": {
  "anaconda-cloud": {},
  "kernelspec": {
   "display_name": "Python [conda env:tinydb]",
   "language": "python",
   "name": "conda-env-tinydb-py"
  },
  "language_info": {
   "codemirror_mode": {
    "name": "ipython",
    "version": 2
   },
   "file_extension": ".py",
   "mimetype": "text/x-python",
   "name": "python",
   "nbconvert_exporter": "python",
   "pygments_lexer": "ipython2",
   "version": "2.7.12"
  }
 },
 "nbformat": 4,
 "nbformat_minor": 1
}
